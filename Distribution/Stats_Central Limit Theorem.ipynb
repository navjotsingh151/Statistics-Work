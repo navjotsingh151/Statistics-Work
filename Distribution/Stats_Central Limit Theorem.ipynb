{
 "cells": [
  {
   "cell_type": "markdown",
   "metadata": {},
   "source": [
    "## Normal Distribution"
   ]
  },
  {
   "cell_type": "code",
   "execution_count": 1,
   "metadata": {},
   "outputs": [],
   "source": [
    "import numpy as np\n",
    "import matplotlib.pyplot as plt\n",
    "import seaborn as sns"
   ]
  },
  {
   "cell_type": "markdown",
   "metadata": {},
   "source": [
    "# Data Generation\n",
    "\n",
    "## Male distribution:\n",
    "\n",
    "Normal Distribution sample of 1000 records with Mean 69.5 and STD Deviation of 2.7 \n",
    "\n",
    "## Female distribution:\n",
    "\n",
    "Normal Distribution sample of 1000 records with Mean 63.7 and STD Deviation of 2.3 "
   ]
  },
  {
   "cell_type": "code",
   "execution_count": 2,
   "metadata": {
    "scrolled": true
   },
   "outputs": [],
   "source": [
    " \n",
    "mu_m, sigma_m = 69.5, 2.7\n",
    "male = np.random.normal(mu_m, sigma_m, 1000)\n",
    "\n",
    "\n",
    "mu_f, sigma_f = 63.7, 2.3\n",
    "female = np.random.normal(mu_f, sigma_f, 1000)\n"
   ]
  },
  {
   "cell_type": "markdown",
   "metadata": {},
   "source": [
    "### Plot Generation"
   ]
  },
  {
   "cell_type": "code",
   "execution_count": 3,
   "metadata": {},
   "outputs": [
    {
     "name": "stderr",
     "output_type": "stream",
     "text": [
      "c:\\users\\nsingh1\\appdata\\local\\programs\\python\\python37\\lib\\site-packages\\scipy\\stats\\stats.py:1713: FutureWarning: Using a non-tuple sequence for multidimensional indexing is deprecated; use `arr[tuple(seq)]` instead of `arr[seq]`. In the future this will be interpreted as an array index, `arr[np.array(seq)]`, which will result either in an error or a different result.\n",
      "  return np.add.reduce(sorted[indexer] * weights, axis=axis) / sumval\n"
     ]
    },
    {
     "data": {
      "image/png": "[encoded data removed]",
      "text/plain": [
       "<Figure size 720x720 with 1 Axes>"
      ]
     },
     "metadata": {
      "needs_background": "light"
     },
     "output_type": "display_data"
    }
   ],
   "source": [
    "plt.figure(figsize=(10,10))\n",
    "sns.distplot( male , color=\"skyblue\", label=\"Male\", kde=False)\n",
    "sns.distplot( female , color=\"red\", label=\"Female\", kde=False)\n",
    "plt.legend()\n",
    "plt.show()\n"
   ]
  },
  {
   "cell_type": "markdown",
   "metadata": {},
   "source": [
    "## Minimum Percentage from Top x% of the population"
   ]
  },
  {
   "cell_type": "code",
   "execution_count": 4,
   "metadata": {},
   "outputs": [
    {
     "name": "stdout",
     "output_type": "stream",
     "text": [
      "Min Value for male height out of 2.2% highest sample : 74.57915999757692\n",
      "Min Value for female height out of 2.2% highest sample : 68.21535704683647\n"
     ]
    }
   ],
   "source": [
    "percentage = 2.2\n",
    "sample_count = 1000\n",
    "\n",
    "required_sample = int(percentage*sample_count/100)\n",
    "required_sample\n",
    "\n",
    "# descing sorted male and Female \n",
    "\n",
    "male[::-1].sort()\n",
    "female[::-1].sort()\n",
    "\n",
    "print(\"Min Value for male height out of 2.2% highest sample :\",min(male[:required_sample]))\n",
    "print(\"Min Value for female height out of 2.2% highest sample :\",min(female[:required_sample]))\n",
    "# for i in range(0, required_sample):\n",
    "\n",
    "    "
   ]
  },
  {
   "cell_type": "markdown",
   "metadata": {},
   "source": [
    "## Quiz"
   ]
  },
  {
   "cell_type": "code",
   "execution_count": 5,
   "metadata": {},
   "outputs": [
    {
     "name": "stdout",
     "output_type": "stream",
     "text": [
      "Variance 7.3519999999999985\n",
      "Standard Deviation 2.711457172813172\n"
     ]
    }
   ],
   "source": [
    "a =  [6.5, 3.6, 2.5, 10.1, 7.3]\n",
    "mean = np.mean(a)\n",
    "variance = np.var(a)\n",
    "print(\"Variance\", variance)\n",
    "std = np.sqrt(variance)\n",
    "print(\"Standard Deviation\", std)"
   ]
  },
  {
   "cell_type": "code",
   "execution_count": null,
   "metadata": {},
   "outputs": [],
   "source": []
  }
 ],
 "metadata": {
  "kernelspec": {
   "display_name": "Python 3",
   "language": "python",
   "name": "python3"
  },
  "language_info": {
   "codemirror_mode": {
    "name": "ipython",
    "version": 3
   },
   "file_extension": ".py",
   "mimetype": "text/x-python",
   "name": "python",
   "nbconvert_exporter": "python",
   "pygments_lexer": "ipython3",
   "version": "3.7.0"
  }
 },
 "nbformat": 4,
 "nbformat_minor": 2
}
